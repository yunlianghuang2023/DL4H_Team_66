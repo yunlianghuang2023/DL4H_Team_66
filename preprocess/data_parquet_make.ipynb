{
 "cells": [
  {
   "cell_type": "code",
   "execution_count": 45,
   "id": "e54d72a3",
   "metadata": {},
   "outputs": [
    {
     "name": "stderr",
     "output_type": "stream",
     "text": [
      "/var/folders/0r/9nn49j113zb2wny_yypjxrch0000gn/T/ipykernel_78535/14555442.py:9: FutureWarning: The pandas.datetime class is deprecated and will be removed from pandas in a future version. Import from datetime module instead.\n",
      "  df1 = pd.read_csv('PATIENTS.csv', parse_dates=['DOB'], date_parser=lambda x: pd.datetime.strptime(x, '%Y-%m-%d %H:%M:%S').date())\n",
      "/var/folders/0r/9nn49j113zb2wny_yypjxrch0000gn/T/ipykernel_78535/14555442.py:10: FutureWarning: The pandas.datetime class is deprecated and will be removed from pandas in a future version. Import from datetime module instead.\n",
      "  df2 = pd.read_csv('ADMISSIONS.csv', parse_dates=['ADMITTIME'], date_parser=lambda x: pd.datetime.strptime(x, '%Y-%m-%d %H:%M:%S').date())\n"
     ]
    }
   ],
   "source": [
    "import pandas as pd\n",
    "import datetime as datetime\n",
    "\n",
    "#df1 = pd.read_csv('PATIENTS.csv')\n",
    "#df2 = pd.read_csv('ADMISSIONS.csv')\n",
    "#merged_df = pd.merge(df2, df1[['SUBJECT_ID', 'ADMTIME']], on='SUBJECT_ID', how='left')\n",
    "#merged_df = pd.merge(df2[['SUBJECT_ID', 'HADM_ID', 'ADMITTIME']], df1[['SUBJECT_ID', 'DOB']], on='SUBJECT_ID', how='left')\n",
    "#df1 = pd.read_csv('PATIENTS.csv', parse_dates=['DOB'], date_parser=lambda x: pd.datetime.strptime(x, '%Y-%m-%d %H:%M:%S').date())\n",
    "df1 = pd.read_csv('PATIENTS.csv', parse_dates=['DOB'], date_parser=lambda x: pd.datetime.strptime(x, '%Y-%m-%d %H:%M:%S').date())\n",
    "df2 = pd.read_csv('ADMISSIONS.csv', parse_dates=['ADMITTIME'], date_parser=lambda x: pd.datetime.strptime(x, '%Y-%m-%d %H:%M:%S').date())\n",
    "merged_df = pd.merge(df2[['SUBJECT_ID', 'HADM_ID', 'ADMITTIME']], df1[['SUBJECT_ID', 'DOB']], on='SUBJECT_ID', how='left')\n",
    "df3 = pd.read_csv('DIAGNOSES_ICD.csv')"
   ]
  },
  {
   "cell_type": "code",
   "execution_count": null,
   "id": "dca0d484",
   "metadata": {},
   "outputs": [],
   "source": []
  },
  {
   "cell_type": "code",
   "execution_count": 46,
   "id": "6c85ec5d",
   "metadata": {},
   "outputs": [
    {
     "name": "stdout",
     "output_type": "stream",
     "text": [
      "Age: 64\n"
     ]
    }
   ],
   "source": [
    "# Calculation of age\n",
    "def calculate_age(dob, current_date):\n",
    "    # Convert the date strings to datetime objects\n",
    "    #dob = datetime.datetime.strptime(dob, \"%Y-%m-%d\")\n",
    "    #current_date = datetime.datetime.strptime(current_date, \"%Y-%m-%d\")\n",
    "\n",
    "    # Calculate the age in years\n",
    "    age = current_date.year - dob.year\n",
    "\n",
    "    # Adjust the age if the birthday hasn't occurred yet this year\n",
    "    if (current_date.month, current_date.day) < (dob.month, dob.day):\n",
    "        age -= 1\n",
    "\n",
    "    return age\n",
    "\n",
    "# Example usage\n",
    "#date_of_birth = \"1990-5-12\"\n",
    "#today = \"2024-04-09\"\n",
    "\n",
    "date_of_birth = merged_df['DOB'].iloc[0].date()\n",
    "today = merged_df['ADMITTIME'].iloc[0].date()\n",
    "\n",
    "D_O_B=date_of_birth.strftime('%Y-%m-%d')\n",
    "my_today=today.strftime('%Y-%m-%d')\n",
    "age = calculate_age(date_of_birth, today)\n",
    "print(f\"Age: {age}\")"
   ]
  },
  {
   "cell_type": "code",
   "execution_count": 47,
   "id": "7257961c",
   "metadata": {},
   "outputs": [],
   "source": [
    "#Calculate the age and add \"age\" column\n",
    "merged_df['age'] = merged_df.apply(lambda row: calculate_age(row['DOB'], row['ADMITTIME']), axis=1)"
   ]
  },
  {
   "cell_type": "code",
   "execution_count": 48,
   "id": "c48efe2f",
   "metadata": {},
   "outputs": [
    {
     "data": {
      "text/html": [
       "<div>\n",
       "<style scoped>\n",
       "    .dataframe tbody tr th:only-of-type {\n",
       "        vertical-align: middle;\n",
       "    }\n",
       "\n",
       "    .dataframe tbody tr th {\n",
       "        vertical-align: top;\n",
       "    }\n",
       "\n",
       "    .dataframe thead th {\n",
       "        text-align: right;\n",
       "    }\n",
       "</style>\n",
       "<table border=\"1\" class=\"dataframe\">\n",
       "  <thead>\n",
       "    <tr style=\"text-align: right;\">\n",
       "      <th></th>\n",
       "      <th>SUBJECT_ID</th>\n",
       "      <th>HADM_ID</th>\n",
       "      <th>ADMITTIME</th>\n",
       "      <th>DOB</th>\n",
       "      <th>age</th>\n",
       "    </tr>\n",
       "  </thead>\n",
       "  <tbody>\n",
       "    <tr>\n",
       "      <th>0</th>\n",
       "      <td>22</td>\n",
       "      <td>165315</td>\n",
       "      <td>2196-04-09</td>\n",
       "      <td>2131-05-07</td>\n",
       "      <td>64</td>\n",
       "    </tr>\n",
       "    <tr>\n",
       "      <th>1</th>\n",
       "      <td>23</td>\n",
       "      <td>152223</td>\n",
       "      <td>2153-09-03</td>\n",
       "      <td>2082-07-17</td>\n",
       "      <td>71</td>\n",
       "    </tr>\n",
       "    <tr>\n",
       "      <th>2</th>\n",
       "      <td>23</td>\n",
       "      <td>124321</td>\n",
       "      <td>2157-10-18</td>\n",
       "      <td>2082-07-17</td>\n",
       "      <td>75</td>\n",
       "    </tr>\n",
       "    <tr>\n",
       "      <th>3</th>\n",
       "      <td>24</td>\n",
       "      <td>161859</td>\n",
       "      <td>2139-06-06</td>\n",
       "      <td>2100-05-31</td>\n",
       "      <td>39</td>\n",
       "    </tr>\n",
       "    <tr>\n",
       "      <th>4</th>\n",
       "      <td>25</td>\n",
       "      <td>129635</td>\n",
       "      <td>2160-11-02</td>\n",
       "      <td>2101-11-21</td>\n",
       "      <td>58</td>\n",
       "    </tr>\n",
       "  </tbody>\n",
       "</table>\n",
       "</div>"
      ],
      "text/plain": [
       "   SUBJECT_ID  HADM_ID  ADMITTIME        DOB  age\n",
       "0          22   165315 2196-04-09 2131-05-07   64\n",
       "1          23   152223 2153-09-03 2082-07-17   71\n",
       "2          23   124321 2157-10-18 2082-07-17   75\n",
       "3          24   161859 2139-06-06 2100-05-31   39\n",
       "4          25   129635 2160-11-02 2101-11-21   58"
      ]
     },
     "execution_count": 48,
     "metadata": {},
     "output_type": "execute_result"
    }
   ],
   "source": [
    "merged_df.head()"
   ]
  },
  {
   "cell_type": "code",
   "execution_count": 51,
   "id": "c9be8da9",
   "metadata": {},
   "outputs": [],
   "source": [
    "# add ICD9_code\n",
    "\n",
    "# Group df3 by 'pat_id' and aggregate 'medical_code' into a list\n",
    "df3_grouped = df3.groupby('SUBJECT_ID')['ICD9_CODE'].agg(list).reset_index()\n",
    "\n",
    "# Rename the aggregated column to 'Med_code'\n",
    "#df2_grouped.rename(columns={'medical_code': 'Med_code'}, inplace=True)\n",
    "\n",
    "# Merge df1 and df2_grouped on 'pat_id'\n",
    "df_merged = pd.merge(merged_df, df3_grouped, on='SUBJECT_ID', how='left')\n"
   ]
  },
  {
   "cell_type": "code",
   "execution_count": 52,
   "id": "dade10d3",
   "metadata": {},
   "outputs": [
    {
     "data": {
      "text/html": [
       "<div>\n",
       "<style scoped>\n",
       "    .dataframe tbody tr th:only-of-type {\n",
       "        vertical-align: middle;\n",
       "    }\n",
       "\n",
       "    .dataframe tbody tr th {\n",
       "        vertical-align: top;\n",
       "    }\n",
       "\n",
       "    .dataframe thead th {\n",
       "        text-align: right;\n",
       "    }\n",
       "</style>\n",
       "<table border=\"1\" class=\"dataframe\">\n",
       "  <thead>\n",
       "    <tr style=\"text-align: right;\">\n",
       "      <th></th>\n",
       "      <th>SUBJECT_ID</th>\n",
       "      <th>HADM_ID</th>\n",
       "      <th>ADMITTIME</th>\n",
       "      <th>DOB</th>\n",
       "      <th>age</th>\n",
       "      <th>ICD9_CODE</th>\n",
       "    </tr>\n",
       "  </thead>\n",
       "  <tbody>\n",
       "    <tr>\n",
       "      <th>0</th>\n",
       "      <td>22</td>\n",
       "      <td>165315</td>\n",
       "      <td>2196-04-09</td>\n",
       "      <td>2131-05-07</td>\n",
       "      <td>64</td>\n",
       "      <td>[9678, 9693, E9502, E9503, 3488, 29620, 4019]</td>\n",
       "    </tr>\n",
       "    <tr>\n",
       "      <th>1</th>\n",
       "      <td>23</td>\n",
       "      <td>152223</td>\n",
       "      <td>2153-09-03</td>\n",
       "      <td>2082-07-17</td>\n",
       "      <td>71</td>\n",
       "      <td>[2252, 3485, 78039, 4241, 4019, 2720, 2724, V4...</td>\n",
       "    </tr>\n",
       "    <tr>\n",
       "      <th>2</th>\n",
       "      <td>23</td>\n",
       "      <td>124321</td>\n",
       "      <td>2157-10-18</td>\n",
       "      <td>2082-07-17</td>\n",
       "      <td>75</td>\n",
       "      <td>[2252, 3485, 78039, 4241, 4019, 2720, 2724, V4...</td>\n",
       "    </tr>\n",
       "    <tr>\n",
       "      <th>3</th>\n",
       "      <td>24</td>\n",
       "      <td>161859</td>\n",
       "      <td>2139-06-06</td>\n",
       "      <td>2100-05-31</td>\n",
       "      <td>39</td>\n",
       "      <td>[41041, 41401, 53081, 25000]</td>\n",
       "    </tr>\n",
       "    <tr>\n",
       "      <th>4</th>\n",
       "      <td>25</td>\n",
       "      <td>129635</td>\n",
       "      <td>2160-11-02</td>\n",
       "      <td>2101-11-21</td>\n",
       "      <td>58</td>\n",
       "      <td>[41071, 25011, 41401, 4019]</td>\n",
       "    </tr>\n",
       "  </tbody>\n",
       "</table>\n",
       "</div>"
      ],
      "text/plain": [
       "   SUBJECT_ID  HADM_ID  ADMITTIME        DOB  age  \\\n",
       "0          22   165315 2196-04-09 2131-05-07   64   \n",
       "1          23   152223 2153-09-03 2082-07-17   71   \n",
       "2          23   124321 2157-10-18 2082-07-17   75   \n",
       "3          24   161859 2139-06-06 2100-05-31   39   \n",
       "4          25   129635 2160-11-02 2101-11-21   58   \n",
       "\n",
       "                                           ICD9_CODE  \n",
       "0      [9678, 9693, E9502, E9503, 3488, 29620, 4019]  \n",
       "1  [2252, 3485, 78039, 4241, 4019, 2720, 2724, V4...  \n",
       "2  [2252, 3485, 78039, 4241, 4019, 2720, 2724, V4...  \n",
       "3                       [41041, 41401, 53081, 25000]  \n",
       "4                        [41071, 25011, 41401, 4019]  "
      ]
     },
     "execution_count": 52,
     "metadata": {},
     "output_type": "execute_result"
    }
   ],
   "source": [
    "df_merged.head()"
   ]
  },
  {
   "cell_type": "code",
   "execution_count": 54,
   "id": "a63403d4",
   "metadata": {},
   "outputs": [],
   "source": [
    "selected_columns = ['SUBJECT_ID','ICD9_CODE','age']\n",
    "df_merged=df_merged[selected_columns]"
   ]
  },
  {
   "cell_type": "code",
   "execution_count": 55,
   "id": "b4a9d8f3",
   "metadata": {},
   "outputs": [
    {
     "data": {
      "text/html": [
       "<div>\n",
       "<style scoped>\n",
       "    .dataframe tbody tr th:only-of-type {\n",
       "        vertical-align: middle;\n",
       "    }\n",
       "\n",
       "    .dataframe tbody tr th {\n",
       "        vertical-align: top;\n",
       "    }\n",
       "\n",
       "    .dataframe thead th {\n",
       "        text-align: right;\n",
       "    }\n",
       "</style>\n",
       "<table border=\"1\" class=\"dataframe\">\n",
       "  <thead>\n",
       "    <tr style=\"text-align: right;\">\n",
       "      <th></th>\n",
       "      <th>SUBJECT_ID</th>\n",
       "      <th>ICD9_CODE</th>\n",
       "      <th>age</th>\n",
       "    </tr>\n",
       "  </thead>\n",
       "  <tbody>\n",
       "    <tr>\n",
       "      <th>0</th>\n",
       "      <td>22</td>\n",
       "      <td>[9678, 9693, E9502, E9503, 3488, 29620, 4019]</td>\n",
       "      <td>64</td>\n",
       "    </tr>\n",
       "    <tr>\n",
       "      <th>1</th>\n",
       "      <td>23</td>\n",
       "      <td>[2252, 3485, 78039, 4241, 4019, 2720, 2724, V4...</td>\n",
       "      <td>71</td>\n",
       "    </tr>\n",
       "    <tr>\n",
       "      <th>2</th>\n",
       "      <td>23</td>\n",
       "      <td>[2252, 3485, 78039, 4241, 4019, 2720, 2724, V4...</td>\n",
       "      <td>75</td>\n",
       "    </tr>\n",
       "    <tr>\n",
       "      <th>3</th>\n",
       "      <td>24</td>\n",
       "      <td>[41041, 41401, 53081, 25000]</td>\n",
       "      <td>39</td>\n",
       "    </tr>\n",
       "    <tr>\n",
       "      <th>4</th>\n",
       "      <td>25</td>\n",
       "      <td>[41071, 25011, 41401, 4019]</td>\n",
       "      <td>58</td>\n",
       "    </tr>\n",
       "  </tbody>\n",
       "</table>\n",
       "</div>"
      ],
      "text/plain": [
       "   SUBJECT_ID                                          ICD9_CODE  age\n",
       "0          22      [9678, 9693, E9502, E9503, 3488, 29620, 4019]   64\n",
       "1          23  [2252, 3485, 78039, 4241, 4019, 2720, 2724, V4...   71\n",
       "2          23  [2252, 3485, 78039, 4241, 4019, 2720, 2724, V4...   75\n",
       "3          24                       [41041, 41401, 53081, 25000]   39\n",
       "4          25                        [41071, 25011, 41401, 4019]   58"
      ]
     },
     "execution_count": 55,
     "metadata": {},
     "output_type": "execute_result"
    }
   ],
   "source": [
    "df_merged.head()"
   ]
  },
  {
   "cell_type": "code",
   "execution_count": 56,
   "id": "bba64ebf",
   "metadata": {},
   "outputs": [],
   "source": [
    "# Write DataFrame to a Parquet file\n",
    "df_merged.to_parquet('data.parquet')"
   ]
  },
  {
   "cell_type": "code",
   "execution_count": null,
   "id": "7934da21",
   "metadata": {},
   "outputs": [],
   "source": []
  }
 ],
 "metadata": {
  "kernelspec": {
   "display_name": "Python 3 (ipykernel)",
   "language": "python",
   "name": "python3"
  },
  "language_info": {
   "codemirror_mode": {
    "name": "ipython",
    "version": 3
   },
   "file_extension": ".py",
   "mimetype": "text/x-python",
   "name": "python",
   "nbconvert_exporter": "python",
   "pygments_lexer": "ipython3",
   "version": "3.11.4"
  }
 },
 "nbformat": 4,
 "nbformat_minor": 5
}
